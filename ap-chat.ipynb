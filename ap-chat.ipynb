{
 "cells": [
  {
   "cell_type": "code",
   "execution_count": 1,
   "metadata": {},
   "outputs": [],
   "source": [
    "import logging\n",
    "import sys\n",
    "\n",
    "logging.basicConfig(stream=sys.stdout, level=logging.INFO)\n",
    "logging.getLogger().addHandler(logging.StreamHandler(stream=sys.stdout))"
   ]
  },
  {
   "cell_type": "code",
   "execution_count": 2,
   "metadata": {},
   "outputs": [],
   "source": [
    "from llama_index.core import SummaryIndex\n",
    "from llama_index.readers.web import SimpleWebPageReader\n",
    "from IPython.display import Markdown, display\n",
    "import os"
   ]
  },
  {
   "cell_type": "code",
   "execution_count": 3,
   "metadata": {},
   "outputs": [],
   "source": [
    "urls_list = []\n",
    "with open('urls.txt', 'r') as f:\n",
    "\turls_list = [line.strip() for line in f.readlines()]"
   ]
  },
  {
   "cell_type": "code",
   "execution_count": 4,
   "metadata": {},
   "outputs": [],
   "source": [
    "documents = SimpleWebPageReader(html_to_text=True).load_data(urls_list)"
   ]
  },
  {
   "cell_type": "code",
   "execution_count": 5,
   "metadata": {},
   "outputs": [
    {
     "data": {
      "text/plain": [
       "218"
      ]
     },
     "execution_count": 5,
     "metadata": {},
     "output_type": "execute_result"
    }
   ],
   "source": [
    "len(documents)"
   ]
  },
  {
   "cell_type": "code",
   "execution_count": 6,
   "metadata": {},
   "outputs": [],
   "source": [
    "GROQ_API_KEY = \"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\""
   ]
  },
  {
   "cell_type": "code",
   "execution_count": 7,
   "metadata": {},
   "outputs": [
    {
     "name": "stderr",
     "output_type": "stream",
     "text": [
      "/Users/amyrfrancisco/Desktop/ap-chat/.venv/lib/python3.12/site-packages/tqdm/auto.py:21: TqdmWarning: IProgress not found. Please update jupyter and ipywidgets. See https://ipywidgets.readthedocs.io/en/stable/user_install.html\n",
      "  from .autonotebook import tqdm as notebook_tqdm\n"
     ]
    }
   ],
   "source": [
    "from llama_index.llms.groq import Groq\n",
    "from llama_index.embeddings.huggingface import HuggingFaceEmbedding"
   ]
  },
  {
   "cell_type": "code",
   "execution_count": 8,
   "metadata": {},
   "outputs": [
    {
     "name": "stdout",
     "output_type": "stream",
     "text": [
      "INFO:sentence_transformers.SentenceTransformer:Load pretrained SentenceTransformer: BAAI/bge-small-en-v1.5\n",
      "Load pretrained SentenceTransformer: BAAI/bge-small-en-v1.5\n",
      "INFO:sentence_transformers.SentenceTransformer:2 prompts are loaded, with the keys: ['query', 'text']\n",
      "2 prompts are loaded, with the keys: ['query', 'text']\n"
     ]
    }
   ],
   "source": [
    "llm = Groq(model=\"llama3-70b-8192\", api_key=GROQ_API_KEY)\n",
    "embed_model = HuggingFaceEmbedding(model_name=\"BAAI/bge-small-en-v1.5\")"
   ]
  },
  {
   "cell_type": "code",
   "execution_count": 9,
   "metadata": {},
   "outputs": [],
   "source": [
    "from llama_index.core import Settings\n",
    "\n",
    "Settings.llm = llm\n",
    "Settings.embed_model = embed_model"
   ]
  },
  {
   "cell_type": "code",
   "execution_count": 10,
   "metadata": {},
   "outputs": [],
   "source": [
    "from llama_index.core import VectorStoreIndex"
   ]
  },
  {
   "cell_type": "code",
   "execution_count": 11,
   "metadata": {},
   "outputs": [
    {
     "name": "stderr",
     "output_type": "stream",
     "text": [
      "Batches: 100%|██████████| 1/1 [00:00<00:00,  1.42it/s]\n",
      "Batches: 100%|██████████| 1/1 [00:00<00:00,  2.08it/s]\n",
      "Batches: 100%|██████████| 1/1 [00:00<00:00,  2.18it/s]\n",
      "Batches: 100%|██████████| 1/1 [00:00<00:00,  2.17it/s]\n",
      "Batches: 100%|██████████| 1/1 [00:00<00:00,  2.16it/s]\n",
      "Batches: 100%|██████████| 1/1 [00:00<00:00,  2.16it/s]\n",
      "Batches: 100%|██████████| 1/1 [00:00<00:00,  2.28it/s]\n",
      "Batches: 100%|██████████| 1/1 [00:00<00:00,  2.19it/s]\n",
      "Batches: 100%|██████████| 1/1 [00:00<00:00,  2.49it/s]\n",
      "Batches: 100%|██████████| 1/1 [00:00<00:00,  2.18it/s]\n",
      "Batches: 100%|██████████| 1/1 [00:00<00:00,  2.18it/s]\n",
      "Batches: 100%|██████████| 1/1 [00:00<00:00,  2.18it/s]\n",
      "Batches: 100%|██████████| 1/1 [00:00<00:00,  2.18it/s]\n",
      "Batches: 100%|██████████| 1/1 [00:00<00:00,  2.19it/s]\n",
      "Batches: 100%|██████████| 1/1 [00:00<00:00,  2.21it/s]\n",
      "Batches: 100%|██████████| 1/1 [00:00<00:00,  2.19it/s]\n",
      "Batches: 100%|██████████| 1/1 [00:00<00:00,  2.20it/s]\n",
      "Batches: 100%|██████████| 1/1 [00:00<00:00,  2.19it/s]\n",
      "Batches: 100%|██████████| 1/1 [00:00<00:00,  2.50it/s]\n",
      "Batches: 100%|██████████| 1/1 [00:00<00:00,  2.52it/s]\n",
      "Batches: 100%|██████████| 1/1 [00:00<00:00,  2.49it/s]\n",
      "Batches: 100%|██████████| 1/1 [00:00<00:00,  2.19it/s]\n",
      "Batches: 100%|██████████| 1/1 [00:00<00:00,  2.19it/s]\n",
      "Batches: 100%|██████████| 1/1 [00:00<00:00,  2.20it/s]\n",
      "Batches: 100%|██████████| 1/1 [00:00<00:00,  2.19it/s]\n",
      "Batches: 100%|██████████| 1/1 [00:00<00:00,  2.20it/s]\n",
      "Batches: 100%|██████████| 1/1 [00:00<00:00,  2.20it/s]\n",
      "Batches: 100%|██████████| 1/1 [00:00<00:00,  2.18it/s]\n",
      "Batches: 100%|██████████| 1/1 [00:00<00:00,  2.20it/s]\n",
      "Batches: 100%|██████████| 1/1 [00:00<00:00,  2.51it/s]\n",
      "Batches: 100%|██████████| 1/1 [00:00<00:00,  2.17it/s]\n",
      "Batches: 100%|██████████| 1/1 [00:00<00:00,  2.19it/s]\n",
      "Batches: 100%|██████████| 1/1 [00:00<00:00,  2.19it/s]\n",
      "Batches: 100%|██████████| 1/1 [00:00<00:00,  2.19it/s]\n",
      "Batches: 100%|██████████| 1/1 [00:00<00:00,  2.20it/s]\n",
      "Batches: 100%|██████████| 1/1 [00:00<00:00,  2.52it/s]\n",
      "Batches: 100%|██████████| 1/1 [00:00<00:00,  2.19it/s]\n",
      "Batches: 100%|██████████| 1/1 [00:00<00:00,  2.20it/s]\n",
      "Batches: 100%|██████████| 1/1 [00:00<00:00,  2.50it/s]\n",
      "Batches: 100%|██████████| 1/1 [00:00<00:00,  2.18it/s]\n",
      "Batches: 100%|██████████| 1/1 [00:00<00:00,  2.47it/s]\n",
      "Batches: 100%|██████████| 1/1 [00:00<00:00,  2.20it/s]\n",
      "Batches: 100%|██████████| 1/1 [00:00<00:00,  2.18it/s]\n",
      "Batches: 100%|██████████| 1/1 [00:00<00:00,  2.49it/s]\n",
      "Batches: 100%|██████████| 1/1 [00:00<00:00,  2.51it/s]\n",
      "Batches: 100%|██████████| 1/1 [00:00<00:00,  2.19it/s]\n",
      "Batches: 100%|██████████| 1/1 [00:00<00:00,  2.20it/s]\n",
      "Batches: 100%|██████████| 1/1 [00:00<00:00,  1.82it/s]\n"
     ]
    }
   ],
   "source": [
    "index = VectorStoreIndex.from_documents(documents)"
   ]
  },
  {
   "cell_type": "code",
   "execution_count": 12,
   "metadata": {},
   "outputs": [],
   "source": [
    "index.storage_context.persist('index')"
   ]
  },
  {
   "cell_type": "code",
   "execution_count": 13,
   "metadata": {},
   "outputs": [],
   "source": [
    "query_engine = index.as_query_engine()"
   ]
  },
  {
   "cell_type": "code",
   "execution_count": 37,
   "metadata": {},
   "outputs": [
    {
     "name": "stderr",
     "output_type": "stream",
     "text": [
      "Batches: 100%|██████████| 1/1 [00:00<00:00,  2.47it/s]\n"
     ]
    },
    {
     "name": "stdout",
     "output_type": "stream",
     "text": [
      "INFO:httpx:HTTP Request: POST https://api.groq.com/openai/v1/chat/completions \"HTTP/1.1 200 OK\"\n",
      "HTTP Request: POST https://api.groq.com/openai/v1/chat/completions \"HTTP/1.1 200 OK\"\n",
      "The article \"IN PHOTOS | E-Sports Championship\" is about the E-Sports Championships that took place at the Justo Albert Auditorium on August 4th, featuring intense matches between various college teams during the PLM Intramurals 2023.\n"
     ]
    }
   ],
   "source": [
    "response = query_engine.query(\"give me all news about sports\")\n",
    "print(response)"
   ]
  },
  {
   "cell_type": "code",
   "execution_count": 38,
   "metadata": {},
   "outputs": [
    {
     "data": {
      "text/markdown": [
       "[E-Sports FInals\n",
       "\\(6\\)](/_next/image?url=https%3A%2F%2Fimages.ctfassets.net%2Fkt65ribdjnvr%2F5NSqJz2oB7g1LftsOnU6NH%2F0851e6ce83cbbf3a795d4d18b776e4e6%2FE-\n",
       "Sports_FInals__6_.jpg&w=3840&q=100)![E-Sports FInals\n",
       "\\(7\\)](/_next/image?url=https%3A%2F%2Fimages.ctfassets.net%2Fkt65ribdjnvr%2F17PBNXXkfKCRvwHsWcNeEA%2Fdbe705c4b7dc79e028ee5a3a67c3d81b%2FE-\n",
       "Sports_FInals__7_.jpg&w=3840&q=100)![E-Sports FInals\n",
       "\\(8\\)](/_next/image?url=https%3A%2F%2Fimages.ctfassets.net%2Fkt65ribdjnvr%2F6e9ybN93z72tP6JPrKm4gm%2F8c770f34d409bbd7e5fa37c02e1a7b5d%2FE-\n",
       "Sports_FInals__8_.jpg&w=3840&q=100)[ABOUT US](/about-us)[![Ang Pamantasan\n",
       "Official Logo](/_next/image?url=%2Fassets%2FAP-logo-no-bg.png&w=640&q=100)](/)\n",
       "\n",
       "[![\\[object Object\\]\n",
       "logo](/_next/static/media/facebook.d0397246.svg)](https://www.facebook.com/angpamantasan)\n",
       "\n",
       "[![\\[object Object\\]\n",
       "logo](/_next/static/media/twitter.b4758186.svg)](https://www.twitter.com/AngPamantasan)\n",
       "\n",
       "[![\\[object Object\\]\n",
       "logo](/_next/static/media/outlook.3252a728.svg)](mailto:angpamantasan@plm.edu.ph)\n",
       "\n",
       "This website is a joint project between Ang Pamantasan and Google Developer\n",
       "Student Clubs PLM.\n",
       "\n",
       "© 2024 Ang Pamantasan. All rights reserved."
      ],
      "text/plain": [
       "<IPython.core.display.Markdown object>"
      ]
     },
     "metadata": {},
     "output_type": "display_data"
    },
    {
     "data": {
      "text/markdown": [
       "[![Ang Pamantasan Official Logo](/_next/image?url=%2Fassets%2FAP-logo-no-\n",
       "bg.png&w=640&q=100)](/)\n",
       "\n",
       "  * [news](/news)\n",
       "  * [opinion](/opinion)\n",
       "  * [features](/features)\n",
       "  * [iskomposisyon](/iskomposisyon)\n",
       "  * [filipino](/filipino)\n",
       "  * [sports](/sports)\n",
       "  * [about us](/about-us)\n",
       "\n",
       "![E-Sports FInals\n",
       "\\(4\\)](/_next/image?url=https%3A%2F%2Fimages.ctfassets.net%2Fkt65ribdjnvr%2F2jFOrZcSRTMC8CVbVgY3s5%2F729a6d92182e0262231680af41a5ea3e%2FE-\n",
       "Sports_FInals__4_.jpg&w=3840&q=100)\n",
       "\n",
       "#### Tags:\n",
       "\n",
       "Pamantasan\n",
       "\n",
       "#### Share To:\n",
       "\n",
       "[](https://www.facebook.com/sharer/sharer.php?u=http%3A//localhost:3000/news/in-\n",
       "photos-or-e-sports-\n",
       "championship)[](https://twitter.com/intent/tweet?text=http%3A//localhost:3000/news/in-\n",
       "photos-or-e-sports-championship)\n",
       "\n",
       "# IN PHOTOS | E-Sports Championship\n",
       "\n",
       "Photos and Caption by Roland Justin Molato | 9 August 23\n",
       "\n",
       "As PLM Intramurals 2023 nears its last week, various college teams competed in\n",
       "intense matches during the E-Sports Championships, which took place at the\n",
       "Justo Albert Auditorium on August 4th.\n",
       "\n",
       "![E-Sports FInals\n",
       "\\(1\\)](/_next/image?url=https%3A%2F%2Fimages.ctfassets.net%2Fkt65ribdjnvr%2F3mDAYd5v8jbM13f15c8VCq%2F6ee959662d68619b3f3855c3902e58a0%2FE-\n",
       "Sports_FInals__1_.jpg&w=3840&q=100)![E-Sports FInals\n",
       "\\(2\\)](/_next/image?url=https%3A%2F%2Fimages.ctfassets.net%2Fkt65ribdjnvr%2F4VOldm70DuHC9KAbR1hMfX%2F712351f27eb1c16ceed89369a464ab23%2FE-\n",
       "Sports_FInals__2_.jpg&w=3840&q=100)![E-Sports FInals\n",
       "\\(3\\)](/_next/image?url=https%3A%2F%2Fimages.ctfassets.net%2Fkt65ribdjnvr%2FzxUHgVthZsyW6hbXny4bJ%2Fa3857dc3e5775fcd15605dae7f0825d9%2FE-\n",
       "Sports_FInals__3_.jpg&w=3840&q=100)![E-Sports FInals\n",
       "\\(4\\)](/_next/image?url=https%3A%2F%2Fimages.ctfassets.net%2Fkt65ribdjnvr%2F2jFOrZcSRTMC8CVbVgY3s5%2F729a6d92182e0262231680af41a5ea3e%2FE-\n",
       "Sports_FInals__4_.jpg&w=3840&q=100)![E-Sports FInals\n",
       "\\(5\\)](/_next/image?url=https%3A%2F%2Fimages.ctfassets.net%2Fkt65ribdjnvr%2F24N4AjmVhmlO1XTYheqUhZ%2F038ad6261ed3be670745fab458c3d09e%2FE-\n",
       "Sports_FInals__5_.jpg&w=3840&q=100)![E-Sports FInals\n",
       "\\(6\\)](/_next/image?url=https%3A%2F%2Fimages.ctfassets.net%2Fkt65ribdjnvr%2F5NSqJz2oB7g1LftsOnU6NH%2F0851e6ce83cbbf3a795d4d18b776e4e6%2FE-\n",
       "Sports_FInals__6_.jpg&w=3840&q=100)!"
      ],
      "text/plain": [
       "<IPython.core.display.Markdown object>"
      ]
     },
     "metadata": {},
     "output_type": "display_data"
    }
   ],
   "source": [
    "for node in response.source_nodes:\n",
    "\tdisplay(Markdown(node.text))"
   ]
  },
  {
   "cell_type": "code",
   "execution_count": null,
   "metadata": {},
   "outputs": [],
   "source": []
  }
 ],
 "metadata": {
  "kernelspec": {
   "display_name": ".venv",
   "language": "python",
   "name": "python3"
  },
  "language_info": {
   "codemirror_mode": {
    "name": "ipython",
    "version": 3
   },
   "file_extension": ".py",
   "mimetype": "text/x-python",
   "name": "python",
   "nbconvert_exporter": "python",
   "pygments_lexer": "ipython3",
   "version": "3.12.4"
  }
 },
 "nbformat": 4,
 "nbformat_minor": 2
}
